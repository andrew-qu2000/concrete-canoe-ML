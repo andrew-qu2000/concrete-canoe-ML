{
 "cells": [
  {
   "cell_type": "code",
   "execution_count": 1,
   "id": "8e33f729",
   "metadata": {},
   "outputs": [],
   "source": [
    "import numpy as np\n",
    "import pandas as pd\n",
    "import matplotlib.pyplot as plt\n",
    "%matplotlib inline"
   ]
  },
  {
   "cell_type": "code",
   "execution_count": 15,
   "id": "aa679148",
   "metadata": {},
   "outputs": [],
   "source": [
    "from sklearn import svm"
   ]
  },
  {
   "cell_type": "code",
   "execution_count": 3,
   "id": "ff3f41e1",
   "metadata": {},
   "outputs": [],
   "source": [
    "packing_df = pd.read_csv('packing_sim.csv')"
   ]
  },
  {
   "cell_type": "code",
   "execution_count": 4,
   "id": "c51107b4",
   "metadata": {},
   "outputs": [],
   "source": [
    "packing_df.dropna(how='all', axis=1, inplace=True) #drop empty columns"
   ]
  },
  {
   "cell_type": "code",
   "execution_count": 6,
   "id": "0c93ae6e",
   "metadata": {
    "collapsed": true
   },
   "outputs": [
    {
     "data": {
      "text/html": [
       "<div>\n",
       "<style scoped>\n",
       "    .dataframe tbody tr th:only-of-type {\n",
       "        vertical-align: middle;\n",
       "    }\n",
       "\n",
       "    .dataframe tbody tr th {\n",
       "        vertical-align: top;\n",
       "    }\n",
       "\n",
       "    .dataframe thead th {\n",
       "        text-align: right;\n",
       "    }\n",
       "</style>\n",
       "<table border=\"1\" class=\"dataframe\">\n",
       "  <thead>\n",
       "    <tr style=\"text-align: right;\">\n",
       "      <th></th>\n",
       "      <th>RCA</th>\n",
       "      <th>Pumice</th>\n",
       "      <th>Cement</th>\n",
       "      <th>Packing</th>\n",
       "    </tr>\n",
       "  </thead>\n",
       "  <tbody>\n",
       "    <tr>\n",
       "      <th>0</th>\n",
       "      <td>0.00</td>\n",
       "      <td>0.00</td>\n",
       "      <td>1.00</td>\n",
       "      <td>0.600</td>\n",
       "    </tr>\n",
       "    <tr>\n",
       "      <th>1</th>\n",
       "      <td>0.00</td>\n",
       "      <td>0.05</td>\n",
       "      <td>0.95</td>\n",
       "      <td>0.612</td>\n",
       "    </tr>\n",
       "    <tr>\n",
       "      <th>2</th>\n",
       "      <td>0.00</td>\n",
       "      <td>0.10</td>\n",
       "      <td>0.90</td>\n",
       "      <td>0.624</td>\n",
       "    </tr>\n",
       "    <tr>\n",
       "      <th>3</th>\n",
       "      <td>0.00</td>\n",
       "      <td>0.15</td>\n",
       "      <td>0.85</td>\n",
       "      <td>0.637</td>\n",
       "    </tr>\n",
       "    <tr>\n",
       "      <th>4</th>\n",
       "      <td>0.00</td>\n",
       "      <td>0.20</td>\n",
       "      <td>0.80</td>\n",
       "      <td>0.650</td>\n",
       "    </tr>\n",
       "    <tr>\n",
       "      <th>...</th>\n",
       "      <td>...</td>\n",
       "      <td>...</td>\n",
       "      <td>...</td>\n",
       "      <td>...</td>\n",
       "    </tr>\n",
       "    <tr>\n",
       "      <th>225</th>\n",
       "      <td>0.90</td>\n",
       "      <td>0.05</td>\n",
       "      <td>0.05</td>\n",
       "      <td>0.650</td>\n",
       "    </tr>\n",
       "    <tr>\n",
       "      <th>226</th>\n",
       "      <td>0.90</td>\n",
       "      <td>0.10</td>\n",
       "      <td>0.00</td>\n",
       "      <td>0.637</td>\n",
       "    </tr>\n",
       "    <tr>\n",
       "      <th>227</th>\n",
       "      <td>0.95</td>\n",
       "      <td>0.00</td>\n",
       "      <td>0.05</td>\n",
       "      <td>0.630</td>\n",
       "    </tr>\n",
       "    <tr>\n",
       "      <th>228</th>\n",
       "      <td>0.95</td>\n",
       "      <td>0.05</td>\n",
       "      <td>0.00</td>\n",
       "      <td>0.618</td>\n",
       "    </tr>\n",
       "    <tr>\n",
       "      <th>229</th>\n",
       "      <td>1.00</td>\n",
       "      <td>0.00</td>\n",
       "      <td>0.00</td>\n",
       "      <td>0.600</td>\n",
       "    </tr>\n",
       "  </tbody>\n",
       "</table>\n",
       "<p>230 rows × 4 columns</p>\n",
       "</div>"
      ],
      "text/plain": [
       "      RCA  Pumice  Cement  Packing\n",
       "0    0.00    0.00    1.00    0.600\n",
       "1    0.00    0.05    0.95    0.612\n",
       "2    0.00    0.10    0.90    0.624\n",
       "3    0.00    0.15    0.85    0.637\n",
       "4    0.00    0.20    0.80    0.650\n",
       "..    ...     ...     ...      ...\n",
       "225  0.90    0.05    0.05    0.650\n",
       "226  0.90    0.10    0.00    0.637\n",
       "227  0.95    0.00    0.05    0.630\n",
       "228  0.95    0.05    0.00    0.618\n",
       "229  1.00    0.00    0.00    0.600\n",
       "\n",
       "[230 rows x 4 columns]"
      ]
     },
     "execution_count": 6,
     "metadata": {},
     "output_type": "execute_result"
    }
   ],
   "source": [
    "packing_df"
   ]
  },
  {
   "cell_type": "code",
   "execution_count": 10,
   "id": "eacbbf2c",
   "metadata": {},
   "outputs": [],
   "source": [
    "X, y = np.split( packing_df.to_numpy(), [-1], axis = 1 ) #split features from last column\n",
    "y = y.flatten()"
   ]
  },
  {
   "cell_type": "code",
   "execution_count": 16,
   "id": "fc676a6e",
   "metadata": {},
   "outputs": [
    {
     "data": {
      "text/plain": [
       "0.4227663122527535"
      ]
     },
     "execution_count": 16,
     "metadata": {},
     "output_type": "execute_result"
    }
   ],
   "source": [
    "model = svm.SVR() # default is rbf kernel, gamma scales\n",
    "model.fit(X, y)\n",
    "model.score(X, y) # around .42"
   ]
  },
  {
   "cell_type": "code",
   "execution_count": 27,
   "id": "576be5e2",
   "metadata": {},
   "outputs": [
    {
     "data": {
      "text/plain": [
       "0.2849737911833873"
      ]
     },
     "execution_count": 27,
     "metadata": {},
     "output_type": "execute_result"
    }
   ],
   "source": [
    "# try poly kernel\n",
    "poly_svr = svm.SVR(kernel='poly', degree=3) # default degree is 3\n",
    "poly_svr.fit(X, y)\n",
    "poly_svr.score(X, y)"
   ]
  },
  {
   "cell_type": "code",
   "execution_count": 20,
   "id": "faf53e40",
   "metadata": {},
   "outputs": [],
   "source": [
    "from sklearn import preprocessing"
   ]
  },
  {
   "cell_type": "code",
   "execution_count": 55,
   "id": "0ae041cc",
   "metadata": {},
   "outputs": [],
   "source": [
    "transformer = preprocessing.PolynomialFeatures(degree=2, interaction_only=False, include_bias=False)\n",
    "poly_X = transformer.fit_transform(X)"
   ]
  },
  {
   "cell_type": "code",
   "execution_count": 36,
   "id": "517c53cb",
   "metadata": {},
   "outputs": [
    {
     "data": {
      "text/plain": [
       "0.31539031746682"
      ]
     },
     "execution_count": 36,
     "metadata": {},
     "output_type": "execute_result"
    }
   ],
   "source": [
    "poly_svr.fit(poly_X, y)\n",
    "poly_svr.score(poly_X, y)"
   ]
  },
  {
   "cell_type": "code",
   "execution_count": 37,
   "id": "27bddd8f",
   "metadata": {},
   "outputs": [
    {
     "data": {
      "text/plain": [
       "0.3770950089010403"
      ]
     },
     "execution_count": 37,
     "metadata": {},
     "output_type": "execute_result"
    }
   ],
   "source": [
    "model.fit(poly_X, y)\n",
    "model.score(poly_X, y)"
   ]
  },
  {
   "cell_type": "code",
   "execution_count": 38,
   "id": "27cbd4af",
   "metadata": {},
   "outputs": [
    {
     "data": {
      "text/plain": [
       "0.2961476097939195"
      ]
     },
     "execution_count": 38,
     "metadata": {},
     "output_type": "execute_result"
    }
   ],
   "source": [
    "lin_svr = svm.SVR(kernel='linear')\n",
    "lin_svr.fit(poly_X, y)\n",
    "lin_svr.score(poly_X, y)"
   ]
  },
  {
   "cell_type": "markdown",
   "id": "4c2a2098",
   "metadata": {},
   "source": [
    "### Testing different gammas with rbf"
   ]
  },
  {
   "cell_type": "code",
   "execution_count": 39,
   "id": "6a34a915",
   "metadata": {},
   "outputs": [
    {
     "data": {
      "text/plain": [
       "0.3261486467798126"
      ]
     },
     "execution_count": 39,
     "metadata": {},
     "output_type": "execute_result"
    }
   ],
   "source": [
    "rbf_auto_svr = svm.SVR(gamma='auto') # 1/n_features, so .33\n",
    "rbf_auto_svr.fit(X, y)\n",
    "rbf_auto_svr.score(X, y)"
   ]
  },
  {
   "cell_type": "code",
   "execution_count": 51,
   "id": "f090cbe0",
   "metadata": {},
   "outputs": [],
   "source": [
    "gammas = [k/10 for k in range(1,20)]"
   ]
  },
  {
   "cell_type": "code",
   "execution_count": 49,
   "id": "fa2fd36a",
   "metadata": {
    "collapsed": true
   },
   "outputs": [
    {
     "name": "stdout",
     "output_type": "stream",
     "text": [
      "Gamma: 1 Score: 0.368943151353576\n",
      "Gamma: 2 Score: 0.41341224256907017\n",
      "Gamma: 3 Score: 0.42854388239491104\n",
      "Gamma: 4 Score: 0.4295383605326619\n"
     ]
    }
   ],
   "source": [
    "for g in gammas:\n",
    "    rbf_svr = svm.SVR(gamma=g)\n",
    "    rbf_svr.fit(X, y)\n",
    "    print('Gamma:', g, 'Score:', rbf_svr.score(X, y))"
   ]
  },
  {
   "cell_type": "code",
   "execution_count": 56,
   "id": "e00f9b30",
   "metadata": {
    "collapsed": true
   },
   "outputs": [
    {
     "name": "stdout",
     "output_type": "stream",
     "text": [
      "Gamma: 0.1 Score: 0.3080515114969824\n",
      "Gamma: 0.2 Score: 0.31533004786976027\n",
      "Gamma: 0.3 Score: 0.32647681231865855\n",
      "Gamma: 0.4 Score: 0.33867189346018556\n",
      "Gamma: 0.5 Score: 0.3516361915373498\n",
      "Gamma: 0.6 Score: 0.36371318763373417\n",
      "Gamma: 0.7 Score: 0.37464411077496207\n",
      "Gamma: 0.8 Score: 0.3835545784721276\n",
      "Gamma: 0.9 Score: 0.3929252053222799\n",
      "Gamma: 1.0 Score: 0.3992634688157104\n",
      "Gamma: 1.1 Score: 0.4054728967320723\n",
      "Gamma: 1.2 Score: 0.4109572937020375\n",
      "Gamma: 1.3 Score: 0.4153673798343305\n",
      "Gamma: 1.4 Score: 0.4188430648212532\n",
      "Gamma: 1.5 Score: 0.42150595302493565\n",
      "Gamma: 1.6 Score: 0.4241471433631321\n",
      "Gamma: 1.7 Score: 0.4253399185244868\n",
      "Gamma: 1.8 Score: 0.42363171895634677\n",
      "Gamma: 1.9 Score: 0.4242174681116442\n"
     ]
    }
   ],
   "source": [
    "for g in gammas:\n",
    "    rbf_svr = svm.SVR(gamma=g)\n",
    "    rbf_svr.fit(poly_X, y)\n",
    "    print('Gamma:', g, 'Score:', rbf_svr.score(poly_X, y))"
   ]
  },
  {
   "cell_type": "code",
   "execution_count": 59,
   "id": "643821ff",
   "metadata": {
    "collapsed": true
   },
   "outputs": [
    {
     "name": "stdout",
     "output_type": "stream",
     "text": [
      "Gamma: 0.1 Score: 0.13779877436171206\n",
      "Gamma: 0.2 Score: 0.21772480185277476\n",
      "Gamma: 0.3 Score: 0.29491331225377737\n",
      "Gamma: 0.4 Score: 0.30126614877691227\n",
      "Gamma: 0.5 Score: 0.3088962180556457\n",
      "Gamma: 0.6 Score: 0.30916798498873166\n",
      "Gamma: 0.7 Score: 0.304996797323816\n",
      "Gamma: 0.8 Score: 0.3036371434987827\n",
      "Gamma: 0.9 Score: 0.3036371031823505\n",
      "Gamma: 1.0 Score: 0.30363712585030556\n",
      "Gamma: 1.1 Score: 0.30457158845822185\n",
      "Gamma: 1.2 Score: 0.3032487577305829\n",
      "Gamma: 1.3 Score: 0.3045715849751257\n",
      "Gamma: 1.4 Score: 0.3045715956006444\n",
      "Gamma: 1.5 Score: 0.30324878831717705\n",
      "Gamma: 1.6 Score: 0.3036371434987827\n",
      "Gamma: 1.7 Score: 0.3045715841374631\n",
      "Gamma: 1.8 Score: 0.3036371031823505\n",
      "Gamma: 1.9 Score: 0.3036143926281656\n"
     ]
    }
   ],
   "source": [
    "for g in gammas:\n",
    "    poly_svr = svm.SVR(kernel='poly', degree=2, gamma=g)\n",
    "    poly_svr.fit(X, y)\n",
    "    print('Gamma:', g, 'Score:', poly_svr.score(X, y))"
   ]
  },
  {
   "cell_type": "code",
   "execution_count": 60,
   "id": "ebf66367",
   "metadata": {
    "collapsed": true
   },
   "outputs": [
    {
     "name": "stdout",
     "output_type": "stream",
     "text": [
      "Gamma: 0.1 Score: 0.22792055062810723\n",
      "Gamma: 0.2 Score: 0.2838257743296596\n",
      "Gamma: 0.3 Score: 0.28101589793112214\n",
      "Gamma: 0.4 Score: 0.2811726430700764\n",
      "Gamma: 0.5 Score: 0.2793114522665754\n",
      "Gamma: 0.6 Score: 0.28116345396763365\n",
      "Gamma: 0.7 Score: 0.2817215466244749\n",
      "Gamma: 0.8 Score: 0.2811726430700764\n",
      "Gamma: 0.9 Score: 0.28172155642254826\n",
      "Gamma: 1.0 Score: 0.2793114522665754\n",
      "Gamma: 1.1 Score: 0.2817215640677113\n",
      "Gamma: 1.2 Score: 0.28116345396763365\n",
      "Gamma: 1.3 Score: 0.28172154139280514\n",
      "Gamma: 1.4 Score: 0.2817215466244749\n",
      "Gamma: 1.5 Score: 0.2798432201100789\n",
      "Gamma: 1.6 Score: 0.2811726430700764\n",
      "Gamma: 1.7 Score: 0.28172153543127354\n",
      "Gamma: 1.8 Score: 0.28172155642254826\n",
      "Gamma: 1.9 Score: 0.27984322591825217\n"
     ]
    }
   ],
   "source": [
    "for g in gammas:\n",
    "    poly_svr = svm.SVR(kernel='poly', degree=2, gamma=g)\n",
    "    poly_svr.fit(poly_X, y)\n",
    "    print('Gamma:', g, 'Score:', poly_svr.score(poly_X, y))"
   ]
  },
  {
   "cell_type": "markdown",
   "id": "38ba3207",
   "metadata": {},
   "source": [
    "### Testing different C values"
   ]
  },
  {
   "cell_type": "code",
   "execution_count": 62,
   "id": "c5be288d",
   "metadata": {},
   "outputs": [],
   "source": [
    "Cs = [10**k for k in range(1,-6,-1)]"
   ]
  },
  {
   "cell_type": "code",
   "execution_count": 63,
   "id": "9cd94462",
   "metadata": {
    "collapsed": true
   },
   "outputs": [
    {
     "name": "stdout",
     "output_type": "stream",
     "text": [
      "C: 10 Score: 0.4227663122527535\n",
      "C: 1 Score: 0.4227663122527535\n",
      "C: 0.1 Score: 0.4227663122527535\n",
      "C: 0.01 Score: 0.30598865055900737\n",
      "C: 0.001 Score: 0.1074054051328458\n",
      "C: 0.0001 Score: 0.009041280461337564\n",
      "C: 1e-05 Score: -0.004123866701380319\n"
     ]
    }
   ],
   "source": [
    "for c in Cs:\n",
    "    rbf_svr = svm.SVR(C=c)\n",
    "    rbf_svr.fit(X, y)\n",
    "    print('C:', c, 'Score:', rbf_svr.score(X, y))"
   ]
  },
  {
   "cell_type": "code",
   "execution_count": 64,
   "id": "1ff9c6cf",
   "metadata": {
    "collapsed": true
   },
   "outputs": [
    {
     "name": "stdout",
     "output_type": "stream",
     "text": [
      "C: 10 Score: 0.42304437401727923\n",
      "C: 1 Score: 0.42304437401727923\n",
      "C: 0.1 Score: 0.42304437401727923\n",
      "C: 0.01 Score: 0.2961474582512619\n",
      "C: 0.001 Score: 0.10980809054784446\n",
      "C: 0.0001 Score: 0.00945330329496119\n",
      "C: 1e-05 Score: -0.00408197143992739\n"
     ]
    }
   ],
   "source": [
    "for c in Cs:\n",
    "    rbf_svr = svm.SVR(C=c)\n",
    "    rbf_svr.fit(poly_X, y)\n",
    "    print('C:', c, 'Score:', rbf_svr.score(poly_X, y))"
   ]
  },
  {
   "cell_type": "code",
   "execution_count": 66,
   "id": "3821058a",
   "metadata": {
    "collapsed": true
   },
   "outputs": [
    {
     "name": "stdout",
     "output_type": "stream",
     "text": [
      "C: 10 Score: 0.30457160644905346\n",
      "C: 1 Score: 0.30457160644905346\n",
      "C: 0.1 Score: 0.30457160644905346\n",
      "C: 0.01 Score: 0.30761326652891574\n",
      "C: 0.001 Score: 0.20246725370680962\n",
      "C: 0.0001 Score: 0.04815666415935016\n",
      "C: 1e-05 Score: 0.0012875851254353643\n"
     ]
    }
   ],
   "source": [
    "for c in Cs:\n",
    "    rbf_svr = svm.SVR(kernel='poly', degree=2, C=c)\n",
    "    rbf_svr.fit(X, y)\n",
    "    print('C:', c, 'Score:', rbf_svr.score(X, y))"
   ]
  },
  {
   "cell_type": "code",
   "execution_count": 67,
   "id": "95b65230",
   "metadata": {
    "collapsed": true
   },
   "outputs": [
    {
     "name": "stdout",
     "output_type": "stream",
     "text": [
      "C: 10 Score: 0.048800845738672605\n",
      "C: 1 Score: 0.0487673831110913\n",
      "C: 0.1 Score: 0.04808598882961834\n",
      "C: 0.01 Score: 0.04090727451142562\n",
      "C: 0.001 Score: 0.006721555332966478\n",
      "C: 0.0001 Score: -0.004276604546944451\n",
      "C: 1e-05 Score: -0.0054772446682243014\n"
     ]
    }
   ],
   "source": [
    "for c in Cs:\n",
    "    rbf_svr = svm.SVR(kernel='linear', C=c)\n",
    "    rbf_svr.fit(X, y)\n",
    "    print('C:', c, 'Score:', rbf_svr.score(X, y))"
   ]
  },
  {
   "cell_type": "code",
   "execution_count": 68,
   "id": "e87a7147",
   "metadata": {
    "collapsed": true
   },
   "outputs": [
    {
     "name": "stdout",
     "output_type": "stream",
     "text": [
      "C: 10 Score: 0.30230789845098904\n",
      "C: 1 Score: 0.30230789845098904\n",
      "C: 0.1 Score: 0.2884881434118546\n",
      "C: 0.01 Score: 0.1269753198451241\n",
      "C: 0.001 Score: 0.024891127534358515\n",
      "C: 0.0001 Score: -0.0020543626689939476\n",
      "C: 1e-05 Score: -0.005250643056183613\n"
     ]
    }
   ],
   "source": [
    "for c in Cs:\n",
    "    rbf_svr = svm.SVR(kernel='linear', C=c)\n",
    "    rbf_svr.fit(poly_X, y)\n",
    "    print('C:', c, 'Score:', rbf_svr.score(poly_X, y))"
   ]
  },
  {
   "cell_type": "markdown",
   "id": "ec357de4",
   "metadata": {},
   "source": [
    "### Testing different epsilon values"
   ]
  },
  {
   "cell_type": "code",
   "execution_count": 72,
   "id": "8c7f2610",
   "metadata": {},
   "outputs": [],
   "source": [
    "eps = [10**k for k in range(1,-6,-1)]"
   ]
  },
  {
   "cell_type": "code",
   "execution_count": 73,
   "id": "e64934f1",
   "metadata": {},
   "outputs": [
    {
     "name": "stdout",
     "output_type": "stream",
     "text": [
      "epsilon: 10 Score: -0.0027681054458523757\n",
      "epsilon: 1 Score: -0.0027681054458525978\n",
      "epsilon: 0.1 Score: 0.4227663122527535\n",
      "epsilon: 0.01 Score: 0.9857317376654934\n",
      "epsilon: 0.001 Score: 0.9881714468023718\n",
      "epsilon: 0.0001 Score: 0.9877193611681947\n",
      "epsilon: 1e-05 Score: 0.9877833203395003\n"
     ]
    }
   ],
   "source": [
    "for ep in eps:\n",
    "    svr = svm.SVR(epsilon = ep)\n",
    "    svr.fit(X, y)\n",
    "    print('epsilon:', ep, 'Score:', svr.score(X, y))"
   ]
  },
  {
   "cell_type": "code",
   "execution_count": 74,
   "id": "6fb3c3d0",
   "metadata": {},
   "outputs": [
    {
     "name": "stdout",
     "output_type": "stream",
     "text": [
      "epsilon: 10 Score: -0.0027681054458523757\n",
      "epsilon: 1 Score: -0.0027681054458525978\n",
      "epsilon: 0.1 Score: 0.42304437401727923\n",
      "epsilon: 0.01 Score: 0.9843000696590908\n",
      "epsilon: 0.001 Score: 0.9864728584306907\n",
      "epsilon: 0.0001 Score: 0.985789385705972\n",
      "epsilon: 1e-05 Score: 0.985846116999631\n"
     ]
    }
   ],
   "source": [
    "for ep in eps:\n",
    "    svr = svm.SVR(epsilon = ep)\n",
    "    svr.fit(poly_X, y)\n",
    "    print('epsilon:', ep, 'Score:', svr.score(poly_X, y))"
   ]
  },
  {
   "cell_type": "code",
   "execution_count": 78,
   "id": "d7ddd824",
   "metadata": {},
   "outputs": [
    {
     "name": "stdout",
     "output_type": "stream",
     "text": [
      "epsilon: 10 Score: -0.0027681054458523757\n",
      "epsilon: 1 Score: -0.0027681054458525978\n",
      "epsilon: 0.1 Score: 0.2548816499592834\n",
      "epsilon: 0.01 Score: 0.9678597909810893\n",
      "epsilon: 0.001 Score: 0.9625407029366183\n",
      "epsilon: 0.0001 Score: 0.9616781257780931\n",
      "epsilon: 1e-05 Score: 0.9617636241871591\n"
     ]
    }
   ],
   "source": [
    "for ep in eps:\n",
    "    svr = svm.SVR(kernel='poly', degree=3, epsilon = ep)\n",
    "    svr.fit(poly_X, y)\n",
    "    print('epsilon:', ep, 'Score:', svr.score(poly_X, y))"
   ]
  },
  {
   "cell_type": "code",
   "execution_count": 80,
   "id": "813d9b02",
   "metadata": {},
   "outputs": [
    {
     "name": "stdout",
     "output_type": "stream",
     "text": [
      "epsilon: 10 Score: -0.0027681054458523757\n",
      "epsilon: 1 Score: -0.0027681054458525978\n",
      "epsilon: 0.1 Score: 0.30230789845098904\n",
      "epsilon: 0.01 Score: 0.7383676075809289\n",
      "epsilon: 0.001 Score: 0.7423225836955063\n",
      "epsilon: 0.0001 Score: 0.7419842403590312\n",
      "epsilon: 1e-05 Score: 0.7415632921907256\n"
     ]
    }
   ],
   "source": [
    "for ep in eps:\n",
    "    svr = svm.SVR(kernel='linear', epsilon = ep)\n",
    "    svr.fit(poly_X, y)\n",
    "    print('epsilon:', ep, 'Score:', svr.score(poly_X, y))"
   ]
  },
  {
   "cell_type": "markdown",
   "id": "56c3bfa9",
   "metadata": {},
   "source": [
    "### Testing different gammas and C's with the best epsilon (ep = 0.001)"
   ]
  },
  {
   "cell_type": "code",
   "execution_count": 84,
   "id": "39fc1bd7",
   "metadata": {},
   "outputs": [],
   "source": [
    "gammas = [k for k in range(1,10)]"
   ]
  },
  {
   "cell_type": "code",
   "execution_count": 87,
   "id": "7a5d7269",
   "metadata": {},
   "outputs": [
    {
     "name": "stdout",
     "output_type": "stream",
     "text": [
      "Gamma: 1 Score: 0.968351372231087\n",
      "Gamma: 2 Score: 0.9833321465416324\n",
      "Gamma: 3 Score: 0.9896470898138913\n",
      "Gamma: 4 Score: 0.9922911133227431\n",
      "Gamma: 5 Score: 0.9942041544651568\n",
      "Gamma: 6 Score: 0.9949590286625649\n",
      "Gamma: 7 Score: 0.9959887665057138\n",
      "Gamma: 8 Score: 0.9967212131481874\n",
      "Gamma: 9 Score: 0.9970704612083636\n"
     ]
    }
   ],
   "source": [
    "for g in gammas:\n",
    "    svr = svm.SVR(epsilon = 0.001,gamma=g)\n",
    "    svr.fit(poly_X, y)\n",
    "    print('Gamma:', g, 'Score:', svr.score(poly_X, y))"
   ]
  },
  {
   "cell_type": "code",
   "execution_count": 88,
   "id": "2a7d6bbe",
   "metadata": {},
   "outputs": [
    {
     "name": "stdout",
     "output_type": "stream",
     "text": [
      "Gamma: 1 Score: 0.978780461354092\n",
      "Gamma: 2 Score: 0.9896040201395292\n",
      "Gamma: 3 Score: 0.9931634687384273\n",
      "Gamma: 4 Score: 0.994785091282211\n",
      "Gamma: 5 Score: 0.9959339722179822\n",
      "Gamma: 6 Score: 0.9969121599524313\n",
      "Gamma: 7 Score: 0.997220984328346\n",
      "Gamma: 8 Score: 0.9976241952596338\n",
      "Gamma: 9 Score: 0.9979210665509624\n"
     ]
    }
   ],
   "source": [
    "for g in gammas:\n",
    "    svr = svm.SVR(epsilon = 0.001,gamma=g,C=10)\n",
    "    svr.fit(poly_X, y)\n",
    "    print('Gamma:', g, 'Score:', svr.score(poly_X, y))"
   ]
  },
  {
   "cell_type": "markdown",
   "id": "b0c1023c",
   "metadata": {},
   "source": [
    "### Try high gamma, high or default C, low epsilon. Train test split."
   ]
  },
  {
   "cell_type": "code",
   "execution_count": 89,
   "id": "b26b380c",
   "metadata": {},
   "outputs": [],
   "source": [
    "from sklearn import model_selection"
   ]
  },
  {
   "cell_type": "code",
   "execution_count": 94,
   "id": "328d1c83",
   "metadata": {},
   "outputs": [],
   "source": [
    "X_tr, X_test, y_tr, y_test = model_selection.train_test_split(X, y, test_size=0.20)"
   ]
  },
  {
   "cell_type": "code",
   "execution_count": 95,
   "id": "aae57e87",
   "metadata": {},
   "outputs": [
    {
     "name": "stdout",
     "output_type": "stream",
     "text": [
      "Training score: 0.9928627879067804\n",
      "Testing score: 0.9907686012196372\n"
     ]
    }
   ],
   "source": [
    "model = svm.SVR(gamma = 8, epsilon = 0.001)\n",
    "model.fit(X_tr, y_tr)\n",
    "print('Training score:', model.score(X_tr, y_tr))\n",
    "print('Testing score:', model.score(X_test, y_test))"
   ]
  },
  {
   "cell_type": "code",
   "execution_count": null,
   "id": "5f3fd7aa",
   "metadata": {},
   "outputs": [],
   "source": []
  }
 ],
 "metadata": {
  "kernelspec": {
   "display_name": ".venv",
   "language": "python",
   "name": ".venv"
  },
  "language_info": {
   "codemirror_mode": {
    "name": "ipython",
    "version": 3
   },
   "file_extension": ".py",
   "mimetype": "text/x-python",
   "name": "python",
   "nbconvert_exporter": "python",
   "pygments_lexer": "ipython3",
   "version": "3.9.6"
  }
 },
 "nbformat": 4,
 "nbformat_minor": 5
}

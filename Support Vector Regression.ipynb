{
 "cells": [
  {
   "cell_type": "code",
   "execution_count": 2,
   "id": "8e33f729",
   "metadata": {},
   "outputs": [],
   "source": [
    "import numpy as np\n",
    "import pandas as pd\n",
    "import matplotlib.pyplot as plt\n",
    "%matplotlib inline"
   ]
  },
  {
   "cell_type": "code",
   "execution_count": 3,
   "id": "aa679148",
   "metadata": {},
   "outputs": [],
   "source": [
    "from sklearn import svm"
   ]
  },
  {
   "cell_type": "code",
   "execution_count": 4,
   "id": "ff3f41e1",
   "metadata": {},
   "outputs": [],
   "source": [
    "packing_df = pd.read_csv('packing_sim.csv')"
   ]
  },
  {
   "cell_type": "code",
   "execution_count": 5,
   "id": "c51107b4",
   "metadata": {},
   "outputs": [],
   "source": [
    "packing_df.dropna(how='all', axis=1, inplace=True) #drop empty columns"
   ]
  },
  {
   "cell_type": "code",
   "execution_count": 5,
   "id": "0c93ae6e",
   "metadata": {
    "collapsed": true
   },
   "outputs": [
    {
     "data": {
      "text/html": [
       "<div>\n",
       "<style scoped>\n",
       "    .dataframe tbody tr th:only-of-type {\n",
       "        vertical-align: middle;\n",
       "    }\n",
       "\n",
       "    .dataframe tbody tr th {\n",
       "        vertical-align: top;\n",
       "    }\n",
       "\n",
       "    .dataframe thead th {\n",
       "        text-align: right;\n",
       "    }\n",
       "</style>\n",
       "<table border=\"1\" class=\"dataframe\">\n",
       "  <thead>\n",
       "    <tr style=\"text-align: right;\">\n",
       "      <th></th>\n",
       "      <th>RCA</th>\n",
       "      <th>Pumice</th>\n",
       "      <th>Cement</th>\n",
       "      <th>Packing</th>\n",
       "    </tr>\n",
       "  </thead>\n",
       "  <tbody>\n",
       "    <tr>\n",
       "      <th>0</th>\n",
       "      <td>0.00</td>\n",
       "      <td>0.00</td>\n",
       "      <td>1.00</td>\n",
       "      <td>0.600</td>\n",
       "    </tr>\n",
       "    <tr>\n",
       "      <th>1</th>\n",
       "      <td>0.00</td>\n",
       "      <td>0.05</td>\n",
       "      <td>0.95</td>\n",
       "      <td>0.612</td>\n",
       "    </tr>\n",
       "    <tr>\n",
       "      <th>2</th>\n",
       "      <td>0.00</td>\n",
       "      <td>0.10</td>\n",
       "      <td>0.90</td>\n",
       "      <td>0.624</td>\n",
       "    </tr>\n",
       "    <tr>\n",
       "      <th>3</th>\n",
       "      <td>0.00</td>\n",
       "      <td>0.15</td>\n",
       "      <td>0.85</td>\n",
       "      <td>0.637</td>\n",
       "    </tr>\n",
       "    <tr>\n",
       "      <th>4</th>\n",
       "      <td>0.00</td>\n",
       "      <td>0.20</td>\n",
       "      <td>0.80</td>\n",
       "      <td>0.650</td>\n",
       "    </tr>\n",
       "    <tr>\n",
       "      <th>...</th>\n",
       "      <td>...</td>\n",
       "      <td>...</td>\n",
       "      <td>...</td>\n",
       "      <td>...</td>\n",
       "    </tr>\n",
       "    <tr>\n",
       "      <th>225</th>\n",
       "      <td>0.90</td>\n",
       "      <td>0.05</td>\n",
       "      <td>0.05</td>\n",
       "      <td>0.650</td>\n",
       "    </tr>\n",
       "    <tr>\n",
       "      <th>226</th>\n",
       "      <td>0.90</td>\n",
       "      <td>0.10</td>\n",
       "      <td>0.00</td>\n",
       "      <td>0.637</td>\n",
       "    </tr>\n",
       "    <tr>\n",
       "      <th>227</th>\n",
       "      <td>0.95</td>\n",
       "      <td>0.00</td>\n",
       "      <td>0.05</td>\n",
       "      <td>0.630</td>\n",
       "    </tr>\n",
       "    <tr>\n",
       "      <th>228</th>\n",
       "      <td>0.95</td>\n",
       "      <td>0.05</td>\n",
       "      <td>0.00</td>\n",
       "      <td>0.618</td>\n",
       "    </tr>\n",
       "    <tr>\n",
       "      <th>229</th>\n",
       "      <td>1.00</td>\n",
       "      <td>0.00</td>\n",
       "      <td>0.00</td>\n",
       "      <td>0.600</td>\n",
       "    </tr>\n",
       "  </tbody>\n",
       "</table>\n",
       "<p>230 rows × 4 columns</p>\n",
       "</div>"
      ],
      "text/plain": [
       "      RCA  Pumice  Cement  Packing\n",
       "0    0.00    0.00    1.00    0.600\n",
       "1    0.00    0.05    0.95    0.612\n",
       "2    0.00    0.10    0.90    0.624\n",
       "3    0.00    0.15    0.85    0.637\n",
       "4    0.00    0.20    0.80    0.650\n",
       "..    ...     ...     ...      ...\n",
       "225  0.90    0.05    0.05    0.650\n",
       "226  0.90    0.10    0.00    0.637\n",
       "227  0.95    0.00    0.05    0.630\n",
       "228  0.95    0.05    0.00    0.618\n",
       "229  1.00    0.00    0.00    0.600\n",
       "\n",
       "[230 rows x 4 columns]"
      ]
     },
     "execution_count": 5,
     "metadata": {},
     "output_type": "execute_result"
    }
   ],
   "source": [
    "packing_df"
   ]
  },
  {
   "cell_type": "code",
   "execution_count": 6,
   "id": "eacbbf2c",
   "metadata": {},
   "outputs": [],
   "source": [
    "X, y = np.split( packing_df.to_numpy(), [-1], axis = 1 ) #split features from last column\n",
    "y = y.flatten()"
   ]
  },
  {
   "cell_type": "code",
   "execution_count": 9,
   "id": "fc676a6e",
   "metadata": {},
   "outputs": [
    {
     "data": {
      "text/plain": [
       "0.4227663122527535"
      ]
     },
     "execution_count": 9,
     "metadata": {},
     "output_type": "execute_result"
    }
   ],
   "source": [
    "rbf = svm.SVR() # default is rbf kernel, gamma set to 'scale' so 1/(n_feat * variance), about 5\n",
    "rbf.fit(X, y)\n",
    "rbf.score(X, y) # around .42"
   ]
  },
  {
   "cell_type": "code",
   "execution_count": 10,
   "id": "576be5e2",
   "metadata": {},
   "outputs": [
    {
     "data": {
      "text/plain": [
       "0.2849737911833873"
      ]
     },
     "execution_count": 10,
     "metadata": {},
     "output_type": "execute_result"
    }
   ],
   "source": [
    "# try poly kernel\n",
    "poly = svm.SVR(kernel='poly') # default degree is 3\n",
    "poly.fit(X, y)\n",
    "poly.score(X, y)"
   ]
  },
  {
   "cell_type": "code",
   "execution_count": 7,
   "id": "faf53e40",
   "metadata": {},
   "outputs": [],
   "source": [
    "from sklearn import preprocessing"
   ]
  },
  {
   "cell_type": "code",
   "execution_count": 13,
   "id": "0ae041cc",
   "metadata": {},
   "outputs": [],
   "source": [
    "# try polynomial transform first\n",
    "transformer = preprocessing.PolynomialFeatures(degree=2, interaction_only=False, include_bias=False)\n",
    "poly_X = transformer.fit_transform(X)"
   ]
  },
  {
   "cell_type": "code",
   "execution_count": 16,
   "id": "27bddd8f",
   "metadata": {},
   "outputs": [
    {
     "data": {
      "text/plain": [
       "0.42304437401727923"
      ]
     },
     "execution_count": 16,
     "metadata": {},
     "output_type": "execute_result"
    }
   ],
   "source": [
    "rbf.fit(poly_X, y)\n",
    "rbf.score(poly_X, y)"
   ]
  },
  {
   "cell_type": "code",
   "execution_count": 17,
   "id": "27cbd4af",
   "metadata": {},
   "outputs": [
    {
     "data": {
      "text/plain": [
       "0.30230789845098904"
      ]
     },
     "execution_count": 17,
     "metadata": {},
     "output_type": "execute_result"
    }
   ],
   "source": [
    "lin = svm.SVR(kernel='linear')\n",
    "lin.fit(poly_X, y)\n",
    "lin.score(poly_X, y)"
   ]
  },
  {
   "cell_type": "markdown",
   "id": "4c2a2098",
   "metadata": {},
   "source": [
    "### Testing different gammas with rbf"
   ]
  },
  {
   "cell_type": "code",
   "execution_count": 18,
   "id": "6a34a915",
   "metadata": {},
   "outputs": [
    {
     "data": {
      "text/plain": [
       "0.3261486467798126"
      ]
     },
     "execution_count": 18,
     "metadata": {},
     "output_type": "execute_result"
    }
   ],
   "source": [
    "rbf_auto_svr = svm.SVR(gamma='auto') # 1/n_features, so .33\n",
    "rbf_auto_svr.fit(X, y)\n",
    "rbf_auto_svr.score(X, y)"
   ]
  },
  {
   "cell_type": "code",
   "execution_count": 25,
   "id": "4c833ddf",
   "metadata": {},
   "outputs": [],
   "source": [
    "def test_gammas(gammas, kernel='rbf'):\n",
    "    for g in gammas:\n",
    "        svr = svm.SVR(kernel=kernel, gamma=g)\n",
    "        svr.fit(X, y)\n",
    "        print('Gamma:', g, 'Score:', svr.score(X, y))"
   ]
  },
  {
   "cell_type": "code",
   "execution_count": 21,
   "id": "f090cbe0",
   "metadata": {},
   "outputs": [],
   "source": [
    "low_gammas = [k/10 for k in range(1,11)]"
   ]
  },
  {
   "cell_type": "code",
   "execution_count": 27,
   "id": "e9e2cc31",
   "metadata": {},
   "outputs": [],
   "source": [
    "high_gammas = [k for k in range(1,11)]"
   ]
  },
  {
   "cell_type": "code",
   "execution_count": 26,
   "id": "fa2fd36a",
   "metadata": {
    "collapsed": true
   },
   "outputs": [
    {
     "name": "stdout",
     "output_type": "stream",
     "text": [
      "Gamma: 0.1 Score: 0.21747244150516798\n",
      "Gamma: 0.2 Score: 0.3090247715006814\n",
      "Gamma: 0.3 Score: 0.3231189302135853\n",
      "Gamma: 0.4 Score: 0.32873482826702216\n",
      "Gamma: 0.5 Score: 0.3366798315153423\n",
      "Gamma: 0.6 Score: 0.3437486921392351\n",
      "Gamma: 0.7 Score: 0.3481689806542073\n",
      "Gamma: 0.8 Score: 0.3558116418258319\n",
      "Gamma: 0.9 Score: 0.36070709505471577\n",
      "Gamma: 1.0 Score: 0.368943151353576\n"
     ]
    }
   ],
   "source": [
    "test_gammas(low_gammas)"
   ]
  },
  {
   "cell_type": "code",
   "execution_count": 28,
   "id": "2abae28e",
   "metadata": {
    "collapsed": true
   },
   "outputs": [
    {
     "name": "stdout",
     "output_type": "stream",
     "text": [
      "Gamma: 1 Score: 0.368943151353576\n",
      "Gamma: 2 Score: 0.41341224256907017\n",
      "Gamma: 3 Score: 0.42854388239491104\n",
      "Gamma: 4 Score: 0.4295383605326619\n",
      "Gamma: 5 Score: 0.425384594696116\n",
      "Gamma: 6 Score: 0.42231246704591885\n",
      "Gamma: 7 Score: 0.4186524668884527\n",
      "Gamma: 8 Score: 0.41050108144207487\n",
      "Gamma: 9 Score: 0.4067328465594511\n",
      "Gamma: 10 Score: 0.40049689755846063\n"
     ]
    }
   ],
   "source": [
    "test_gammas(high_gammas)"
   ]
  },
  {
   "cell_type": "code",
   "execution_count": 29,
   "id": "e00f9b30",
   "metadata": {
    "collapsed": true
   },
   "outputs": [
    {
     "name": "stdout",
     "output_type": "stream",
     "text": [
      "Gamma: 0.1 Score: 0.019009771435413714\n",
      "Gamma: 0.2 Score: 0.13471448601364144\n",
      "Gamma: 0.3 Score: 0.21165986380483737\n",
      "Gamma: 0.4 Score: 0.2731483980879371\n",
      "Gamma: 0.5 Score: 0.28861290376408\n",
      "Gamma: 0.6 Score: 0.2890259128420771\n",
      "Gamma: 0.7 Score: 0.2869685058878876\n",
      "Gamma: 0.8 Score: 0.2858758487515496\n",
      "Gamma: 0.9 Score: 0.28497379074129414\n",
      "Gamma: 1.0 Score: 0.28497376704034694\n"
     ]
    }
   ],
   "source": [
    "test_gammas(low_gammas,'poly')"
   ]
  },
  {
   "cell_type": "code",
   "execution_count": 30,
   "id": "d324464a",
   "metadata": {
    "collapsed": true
   },
   "outputs": [
    {
     "name": "stdout",
     "output_type": "stream",
     "text": [
      "Gamma: 1 Score: 0.28497376704034694\n",
      "Gamma: 2 Score: 0.28497376704034694\n",
      "Gamma: 3 Score: 0.2858758730839849\n",
      "Gamma: 4 Score: 0.28497376704034694\n",
      "Gamma: 5 Score: 0.28497377169304583\n",
      "Gamma: 6 Score: 0.2858758730839849\n",
      "Gamma: 7 Score: 0.28497377752484976\n",
      "Gamma: 8 Score: 0.28497376704034694\n",
      "Gamma: 9 Score: 0.28587586875230164\n",
      "Gamma: 10 Score: 0.28497377169304583\n"
     ]
    }
   ],
   "source": [
    "test_gammas(high_gammas,'poly')"
   ]
  },
  {
   "cell_type": "markdown",
   "id": "38ba3207",
   "metadata": {},
   "source": [
    "### Testing different C values"
   ]
  },
  {
   "cell_type": "code",
   "execution_count": 33,
   "id": "f3c22565",
   "metadata": {},
   "outputs": [],
   "source": [
    "def test_Cs(Cs, kernel='rbf'):\n",
    "    for C in Cs:\n",
    "        svr = svm.SVR(kernel=kernel, C=C)\n",
    "        svr.fit(X, y)\n",
    "        print('C:', C, 'Score:', svr.score(X, y))"
   ]
  },
  {
   "cell_type": "code",
   "execution_count": 40,
   "id": "c5be288d",
   "metadata": {},
   "outputs": [],
   "source": [
    "Cs = [10**k for k in range(1,-6,-1)] # default is 1, low C is used for noisy data (more regularization)"
   ]
  },
  {
   "cell_type": "code",
   "execution_count": 41,
   "id": "9cd94462",
   "metadata": {
    "collapsed": true
   },
   "outputs": [
    {
     "name": "stdout",
     "output_type": "stream",
     "text": [
      "C: 10 Score: 0.4227663122527535\n",
      "C: 1 Score: 0.4227663122527535\n",
      "C: 0.1 Score: 0.4227663122527535\n",
      "C: 0.01 Score: 0.30598865055900737\n",
      "C: 0.001 Score: 0.1074054051328458\n",
      "C: 0.0001 Score: 0.009041280461337564\n",
      "C: 1e-05 Score: -0.004123866701380319\n"
     ]
    }
   ],
   "source": [
    "test_Cs(Cs)"
   ]
  },
  {
   "cell_type": "code",
   "execution_count": 36,
   "id": "1ff9c6cf",
   "metadata": {
    "collapsed": true
   },
   "outputs": [
    {
     "name": "stdout",
     "output_type": "stream",
     "text": [
      "C: 10 Score: 0.2849737911833873\n",
      "C: 1 Score: 0.2849737911833873\n",
      "C: 0.1 Score: 0.2849737911833873\n",
      "C: 0.01 Score: 0.2849737911833873\n",
      "C: 0.001 Score: 0.28972563134081797\n",
      "C: 0.0001 Score: 0.17268303829044096\n",
      "C: 1e-05 Score: 0.02924010476617611\n"
     ]
    }
   ],
   "source": [
    "test_Cs(Cs,'poly')"
   ]
  },
  {
   "cell_type": "code",
   "execution_count": 37,
   "id": "95b65230",
   "metadata": {
    "collapsed": true
   },
   "outputs": [
    {
     "name": "stdout",
     "output_type": "stream",
     "text": [
      "C: 10 Score: 0.048800845738672605\n",
      "C: 1 Score: 0.0487673831110913\n",
      "C: 0.1 Score: 0.04808598882961834\n",
      "C: 0.01 Score: 0.04090727451142562\n",
      "C: 0.001 Score: 0.006721555332966478\n",
      "C: 0.0001 Score: -0.004276604546944451\n",
      "C: 1e-05 Score: -0.0054772446682243014\n"
     ]
    }
   ],
   "source": [
    "test_Cs(Cs,'linear')"
   ]
  },
  {
   "cell_type": "markdown",
   "id": "e40775c6",
   "metadata": {},
   "source": [
    "### Testing different polynomial kernel degrees\n"
   ]
  },
  {
   "cell_type": "code",
   "execution_count": 13,
   "id": "5616984f",
   "metadata": {},
   "outputs": [],
   "source": [
    "def test_poly_degs(degs, gamma='scale', epsilon=0.1): # same defaults\n",
    "    for d in degs:\n",
    "        svr = svm.SVR(kernel='poly', degree=d, gamma=gamma, epsilon=epsilon)\n",
    "        svr.fit(X, y)\n",
    "        print('degree=', d, 'Score:', svr.score(X, y))"
   ]
  },
  {
   "cell_type": "code",
   "execution_count": 8,
   "id": "5ebd7a92",
   "metadata": {},
   "outputs": [],
   "source": [
    "degs = [k for k in range(2,6)]"
   ]
  },
  {
   "cell_type": "code",
   "execution_count": 14,
   "id": "00bc8cfc",
   "metadata": {},
   "outputs": [
    {
     "name": "stdout",
     "output_type": "stream",
     "text": [
      "degree= 2 Score: 0.30457160644905346\n",
      "degree= 3 Score: 0.2849737911833873\n",
      "degree= 4 Score: 0.2623835474020295\n",
      "degree= 5 Score: 0.2444893164261298\n"
     ]
    }
   ],
   "source": [
    "test_poly_degs(degs)"
   ]
  },
  {
   "cell_type": "markdown",
   "id": "ec357de4",
   "metadata": {},
   "source": [
    "### Testing different epsilon values"
   ]
  },
  {
   "cell_type": "code",
   "execution_count": 42,
   "id": "344783d8",
   "metadata": {},
   "outputs": [],
   "source": [
    "def test_eps(eps, kernel='rbf'):\n",
    "    for ep in eps:\n",
    "        svr = svm.SVR(kernel=kernel, epsilon=ep)\n",
    "        svr.fit(X, y)\n",
    "        print('epsilon:', ep, 'Score:', svr.score(X, y))"
   ]
  },
  {
   "cell_type": "code",
   "execution_count": 47,
   "id": "603b021f",
   "metadata": {},
   "outputs": [],
   "source": [
    "def test_eps_poly(eps, kernel='rbf'): # use poly transformed features\n",
    "    for ep in eps:\n",
    "        svr = svm.SVR(kernel=kernel, epsilon=ep)\n",
    "        svr.fit(poly_X, y)\n",
    "        print('epsilon:', ep, 'Score:', svr.score(poly_X, y))"
   ]
  },
  {
   "cell_type": "code",
   "execution_count": 43,
   "id": "8c7f2610",
   "metadata": {},
   "outputs": [],
   "source": [
    "eps = [10**k for k in range(1,-6,-1)]"
   ]
  },
  {
   "cell_type": "code",
   "execution_count": 48,
   "id": "e64934f1",
   "metadata": {
    "collapsed": true
   },
   "outputs": [
    {
     "name": "stdout",
     "output_type": "stream",
     "text": [
      "epsilon: 10 Score: -0.0027681054458523757\n",
      "epsilon: 1 Score: -0.0027681054458525978\n",
      "epsilon: 0.1 Score: 0.42304437401727923\n",
      "epsilon: 0.01 Score: 0.9843000696590908\n",
      "epsilon: 0.001 Score: 0.9864728584306907\n",
      "epsilon: 0.0001 Score: 0.985789385705972\n",
      "epsilon: 1e-05 Score: 0.985846116999631\n"
     ]
    }
   ],
   "source": [
    "test_eps(eps)"
   ]
  },
  {
   "cell_type": "code",
   "execution_count": 52,
   "id": "61daa40a",
   "metadata": {
    "collapsed": true
   },
   "outputs": [
    {
     "name": "stdout",
     "output_type": "stream",
     "text": [
      "epsilon: 10 Score: -0.0027681054458523757\n",
      "epsilon: 1 Score: -0.0027681054458525978\n",
      "epsilon: 0.1 Score: 0.0487673831110913\n",
      "epsilon: 0.01 Score: 0.034053078962909655\n",
      "epsilon: 0.001 Score: 0.02997911084973448\n",
      "epsilon: 0.0001 Score: 0.03820979586949069\n",
      "epsilon: 1e-05 Score: 0.033025369097192336\n"
     ]
    }
   ],
   "source": [
    "test_eps(eps,'linear')"
   ]
  },
  {
   "cell_type": "code",
   "execution_count": 50,
   "id": "d7ddd824",
   "metadata": {
    "collapsed": true
   },
   "outputs": [
    {
     "name": "stdout",
     "output_type": "stream",
     "text": [
      "epsilon: 10 Score: -0.0027681054458523757\n",
      "epsilon: 1 Score: -0.0027681054458525978\n",
      "epsilon: 0.1 Score: 0.30230789845098904\n",
      "epsilon: 0.01 Score: 0.7383676075809289\n",
      "epsilon: 0.001 Score: 0.7423225836955063\n",
      "epsilon: 0.0001 Score: 0.7419842403590312\n",
      "epsilon: 1e-05 Score: 0.7415632921907256\n"
     ]
    }
   ],
   "source": [
    "test_eps_poly(eps,'linear')"
   ]
  },
  {
   "cell_type": "markdown",
   "id": "56c3bfa9",
   "metadata": {},
   "source": [
    "### Testing different gammas and C's with the best epsilon (ep = 0.001)"
   ]
  },
  {
   "cell_type": "code",
   "execution_count": 55,
   "id": "39fc1bd7",
   "metadata": {},
   "outputs": [],
   "source": [
    "gammas = [k for k in range(5,15)]"
   ]
  },
  {
   "cell_type": "code",
   "execution_count": 58,
   "id": "d251276c",
   "metadata": {
    "collapsed": true
   },
   "outputs": [
    {
     "name": "stdout",
     "output_type": "stream",
     "text": [
      "Gamma: 5 Score: 0.9873494349785643\n",
      "Gamma: 6 Score: 0.9896468142110767\n",
      "Gamma: 7 Score: 0.9915437532541258\n",
      "Gamma: 8 Score: 0.9928600775723027\n",
      "Gamma: 9 Score: 0.9938194370697923\n",
      "Gamma: 10 Score: 0.9943176477092133\n",
      "Gamma: 11 Score: 0.9950473476383049\n",
      "Gamma: 12 Score: 0.9957055971894013\n",
      "Gamma: 13 Score: 0.9960348536598931\n",
      "Gamma: 14 Score: 0.9964294458939229\n"
     ]
    }
   ],
   "source": [
    "for g in gammas:\n",
    "    svr = svm.SVR(epsilon = 0.001,gamma=g)\n",
    "    svr.fit(X, y)\n",
    "    print('Gamma:', g, 'Score:', svr.score(X, y))"
   ]
  },
  {
   "cell_type": "code",
   "execution_count": 56,
   "id": "7a5d7269",
   "metadata": {
    "collapsed": true
   },
   "outputs": [
    {
     "name": "stdout",
     "output_type": "stream",
     "text": [
      "Gamma: 5 Score: 0.9942041544651568\n",
      "Gamma: 6 Score: 0.9949590286625649\n",
      "Gamma: 7 Score: 0.9959887665057138\n",
      "Gamma: 8 Score: 0.9967212131481874\n",
      "Gamma: 9 Score: 0.9970704612083636\n",
      "Gamma: 10 Score: 0.997369122110379\n",
      "Gamma: 11 Score: 0.9976073392791844\n",
      "Gamma: 12 Score: 0.9978102241291773\n",
      "Gamma: 13 Score: 0.9980119480604562\n",
      "Gamma: 14 Score: 0.9982058134266828\n"
     ]
    }
   ],
   "source": [
    "for g in gammas:\n",
    "    svr = svm.SVR(epsilon = 0.001,gamma=g)\n",
    "    svr.fit(poly_X, y)\n",
    "    print('Gamma:', g, 'Score:', svr.score(poly_X, y))"
   ]
  },
  {
   "cell_type": "code",
   "execution_count": 57,
   "id": "2a7d6bbe",
   "metadata": {
    "collapsed": true
   },
   "outputs": [
    {
     "name": "stdout",
     "output_type": "stream",
     "text": [
      "Gamma: 5 Score: 0.9959339722179822\n",
      "Gamma: 6 Score: 0.9969121599524313\n",
      "Gamma: 7 Score: 0.997220984328346\n",
      "Gamma: 8 Score: 0.9976241952596338\n",
      "Gamma: 9 Score: 0.9979210665509624\n",
      "Gamma: 10 Score: 0.9982026367167417\n",
      "Gamma: 11 Score: 0.9983697159015883\n",
      "Gamma: 12 Score: 0.9984822015498964\n",
      "Gamma: 13 Score: 0.9986570068398148\n",
      "Gamma: 14 Score: 0.9987834767110767\n"
     ]
    }
   ],
   "source": [
    "for g in gammas:\n",
    "    svr = svm.SVR(epsilon = 0.001,gamma=g,C=10)\n",
    "    svr.fit(poly_X, y)\n",
    "    print('Gamma:', g, 'Score:', svr.score(poly_X, y))"
   ]
  },
  {
   "cell_type": "markdown",
   "id": "8791dc58",
   "metadata": {},
   "source": [
    "### High Gamma, Low epsilon, different polynomial degrees"
   ]
  },
  {
   "cell_type": "code",
   "execution_count": 18,
   "id": "20f10e7e",
   "metadata": {},
   "outputs": [
    {
     "name": "stdout",
     "output_type": "stream",
     "text": [
      "degree= 2 Score: 0.7340013709531641\n",
      "degree= 3 Score: 0.9219207554626947\n",
      "degree= 4 Score: 0.9276225761973721\n",
      "degree= 5 Score: 0.9622635824286132\n"
     ]
    }
   ],
   "source": [
    "test_poly_degs(degs,4,0.001) # more calculation needed for high degree and gamma"
   ]
  },
  {
   "cell_type": "markdown",
   "id": "b0c1023c",
   "metadata": {},
   "source": [
    "### Try high gamma, high or default C, low epsilon. Train test split."
   ]
  },
  {
   "cell_type": "code",
   "execution_count": 89,
   "id": "b26b380c",
   "metadata": {},
   "outputs": [],
   "source": [
    "from sklearn import model_selection"
   ]
  },
  {
   "cell_type": "code",
   "execution_count": 94,
   "id": "328d1c83",
   "metadata": {},
   "outputs": [],
   "source": [
    "X_tr, X_test, y_tr, y_test = model_selection.train_test_split(X, y, test_size=0.20)"
   ]
  },
  {
   "cell_type": "code",
   "execution_count": 95,
   "id": "aae57e87",
   "metadata": {},
   "outputs": [
    {
     "name": "stdout",
     "output_type": "stream",
     "text": [
      "Training score: 0.9928627879067804\n",
      "Testing score: 0.9907686012196372\n"
     ]
    }
   ],
   "source": [
    "model = svm.SVR(gamma = 8, epsilon = 0.001)\n",
    "model.fit(X_tr, y_tr)\n",
    "print('Training score:', model.score(X_tr, y_tr))\n",
    "print('Testing score:', model.score(X_test, y_test))"
   ]
  }
 ],
 "metadata": {
  "kernelspec": {
   "display_name": ".venv",
   "language": "python",
   "name": ".venv"
  },
  "language_info": {
   "codemirror_mode": {
    "name": "ipython",
    "version": 3
   },
   "file_extension": ".py",
   "mimetype": "text/x-python",
   "name": "python",
   "nbconvert_exporter": "python",
   "pygments_lexer": "ipython3",
   "version": "3.9.6"
  }
 },
 "nbformat": 4,
 "nbformat_minor": 5
}
